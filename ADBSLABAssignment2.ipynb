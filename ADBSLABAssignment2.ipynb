{
 "cells": [
  {
   "cell_type": "code",
   "execution_count": 89,
   "metadata": {
    "id": "ocg8orEHZOt3"
   },
   "outputs": [],
   "source": [
    "import pandas as pd\n",
    "import numpy as np\n"
   ]
  },
  {
   "cell_type": "code",
   "execution_count": 90,
   "metadata": {
    "colab": {
     "base_uri": "https://localhost:8080/",
     "height": 204
    },
    "id": "LUd9Uy1SaPtC",
    "outputId": "7917dfda-970b-4e82-a5c3-403236305570"
   },
   "outputs": [
    {
     "data": {
      "text/html": [
       "<div>\n",
       "<style scoped>\n",
       "    .dataframe tbody tr th:only-of-type {\n",
       "        vertical-align: middle;\n",
       "    }\n",
       "\n",
       "    .dataframe tbody tr th {\n",
       "        vertical-align: top;\n",
       "    }\n",
       "\n",
       "    .dataframe thead th {\n",
       "        text-align: right;\n",
       "    }\n",
       "</style>\n",
       "<table border=\"1\" class=\"dataframe\">\n",
       "  <thead>\n",
       "    <tr style=\"text-align: right;\">\n",
       "      <th></th>\n",
       "      <th>age</th>\n",
       "      <th>job</th>\n",
       "      <th>marital</th>\n",
       "      <th>education</th>\n",
       "      <th>default</th>\n",
       "      <th>balance</th>\n",
       "      <th>housing</th>\n",
       "      <th>loan</th>\n",
       "      <th>contact</th>\n",
       "      <th>day</th>\n",
       "      <th>month</th>\n",
       "      <th>duration</th>\n",
       "      <th>campaign</th>\n",
       "      <th>pdays</th>\n",
       "      <th>previous</th>\n",
       "      <th>poutcome</th>\n",
       "      <th>y</th>\n",
       "    </tr>\n",
       "  </thead>\n",
       "  <tbody>\n",
       "    <tr>\n",
       "      <th>0</th>\n",
       "      <td>30</td>\n",
       "      <td>unemployed</td>\n",
       "      <td>married</td>\n",
       "      <td>primary</td>\n",
       "      <td>no</td>\n",
       "      <td>1787</td>\n",
       "      <td>no</td>\n",
       "      <td>no</td>\n",
       "      <td>cellular</td>\n",
       "      <td>19</td>\n",
       "      <td>oct</td>\n",
       "      <td>79</td>\n",
       "      <td>1</td>\n",
       "      <td>-1</td>\n",
       "      <td>0</td>\n",
       "      <td>unknown</td>\n",
       "      <td>no</td>\n",
       "    </tr>\n",
       "    <tr>\n",
       "      <th>1</th>\n",
       "      <td>33</td>\n",
       "      <td>services</td>\n",
       "      <td>married</td>\n",
       "      <td>secondary</td>\n",
       "      <td>no</td>\n",
       "      <td>4789</td>\n",
       "      <td>yes</td>\n",
       "      <td>yes</td>\n",
       "      <td>cellular</td>\n",
       "      <td>11</td>\n",
       "      <td>may</td>\n",
       "      <td>220</td>\n",
       "      <td>1</td>\n",
       "      <td>339</td>\n",
       "      <td>4</td>\n",
       "      <td>failure</td>\n",
       "      <td>no</td>\n",
       "    </tr>\n",
       "    <tr>\n",
       "      <th>2</th>\n",
       "      <td>35</td>\n",
       "      <td>management</td>\n",
       "      <td>single</td>\n",
       "      <td>tertiary</td>\n",
       "      <td>no</td>\n",
       "      <td>1350</td>\n",
       "      <td>yes</td>\n",
       "      <td>no</td>\n",
       "      <td>cellular</td>\n",
       "      <td>16</td>\n",
       "      <td>apr</td>\n",
       "      <td>185</td>\n",
       "      <td>1</td>\n",
       "      <td>330</td>\n",
       "      <td>1</td>\n",
       "      <td>failure</td>\n",
       "      <td>no</td>\n",
       "    </tr>\n",
       "    <tr>\n",
       "      <th>3</th>\n",
       "      <td>30</td>\n",
       "      <td>management</td>\n",
       "      <td>married</td>\n",
       "      <td>tertiary</td>\n",
       "      <td>no</td>\n",
       "      <td>1476</td>\n",
       "      <td>yes</td>\n",
       "      <td>yes</td>\n",
       "      <td>unknown</td>\n",
       "      <td>3</td>\n",
       "      <td>jun</td>\n",
       "      <td>199</td>\n",
       "      <td>4</td>\n",
       "      <td>-1</td>\n",
       "      <td>0</td>\n",
       "      <td>unknown</td>\n",
       "      <td>no</td>\n",
       "    </tr>\n",
       "    <tr>\n",
       "      <th>4</th>\n",
       "      <td>59</td>\n",
       "      <td>blue-collar</td>\n",
       "      <td>married</td>\n",
       "      <td>secondary</td>\n",
       "      <td>no</td>\n",
       "      <td>0</td>\n",
       "      <td>yes</td>\n",
       "      <td>no</td>\n",
       "      <td>unknown</td>\n",
       "      <td>5</td>\n",
       "      <td>may</td>\n",
       "      <td>226</td>\n",
       "      <td>1</td>\n",
       "      <td>-1</td>\n",
       "      <td>0</td>\n",
       "      <td>unknown</td>\n",
       "      <td>no</td>\n",
       "    </tr>\n",
       "  </tbody>\n",
       "</table>\n",
       "</div>"
      ],
      "text/plain": [
       "   age          job  marital  education default  balance housing loan  \\\n",
       "0   30   unemployed  married    primary      no     1787      no   no   \n",
       "1   33     services  married  secondary      no     4789     yes  yes   \n",
       "2   35   management   single   tertiary      no     1350     yes   no   \n",
       "3   30   management  married   tertiary      no     1476     yes  yes   \n",
       "4   59  blue-collar  married  secondary      no        0     yes   no   \n",
       "\n",
       "    contact  day month  duration  campaign  pdays  previous poutcome   y  \n",
       "0  cellular   19   oct        79         1     -1         0  unknown  no  \n",
       "1  cellular   11   may       220         1    339         4  failure  no  \n",
       "2  cellular   16   apr       185         1    330         1  failure  no  \n",
       "3   unknown    3   jun       199         4     -1         0  unknown  no  \n",
       "4   unknown    5   may       226         1     -1         0  unknown  no  "
      ]
     },
     "execution_count": 90,
     "metadata": {},
     "output_type": "execute_result"
    }
   ],
   "source": [
    "data=pd.read_csv(\"C:\\\\Users\\\\ABHISHEK\\\\Desktop\\\\python\\\\bank\\\\bank.csv\")\n",
    "data.head(5)"
   ]
  },
  {
   "cell_type": "code",
   "execution_count": 91,
   "metadata": {
    "colab": {
     "base_uri": "https://localhost:8080/",
     "height": 297
    },
    "id": "9WuQPtPYiWPe",
    "outputId": "57106e48-e36c-4890-a974-e3fcff68a052"
   },
   "outputs": [
    {
     "data": {
      "text/html": [
       "<div>\n",
       "<style scoped>\n",
       "    .dataframe tbody tr th:only-of-type {\n",
       "        vertical-align: middle;\n",
       "    }\n",
       "\n",
       "    .dataframe tbody tr th {\n",
       "        vertical-align: top;\n",
       "    }\n",
       "\n",
       "    .dataframe thead th {\n",
       "        text-align: right;\n",
       "    }\n",
       "</style>\n",
       "<table border=\"1\" class=\"dataframe\">\n",
       "  <thead>\n",
       "    <tr style=\"text-align: right;\">\n",
       "      <th></th>\n",
       "      <th>age</th>\n",
       "      <th>balance</th>\n",
       "      <th>day</th>\n",
       "      <th>duration</th>\n",
       "      <th>campaign</th>\n",
       "      <th>pdays</th>\n",
       "      <th>previous</th>\n",
       "    </tr>\n",
       "  </thead>\n",
       "  <tbody>\n",
       "    <tr>\n",
       "      <th>count</th>\n",
       "      <td>4521.000000</td>\n",
       "      <td>4521.000000</td>\n",
       "      <td>4521.000000</td>\n",
       "      <td>4521.000000</td>\n",
       "      <td>4521.000000</td>\n",
       "      <td>4521.000000</td>\n",
       "      <td>4521.000000</td>\n",
       "    </tr>\n",
       "    <tr>\n",
       "      <th>mean</th>\n",
       "      <td>41.170095</td>\n",
       "      <td>1422.657819</td>\n",
       "      <td>15.915284</td>\n",
       "      <td>263.961292</td>\n",
       "      <td>2.793630</td>\n",
       "      <td>39.766645</td>\n",
       "      <td>0.542579</td>\n",
       "    </tr>\n",
       "    <tr>\n",
       "      <th>std</th>\n",
       "      <td>10.576211</td>\n",
       "      <td>3009.638142</td>\n",
       "      <td>8.247667</td>\n",
       "      <td>259.856633</td>\n",
       "      <td>3.109807</td>\n",
       "      <td>100.121124</td>\n",
       "      <td>1.693562</td>\n",
       "    </tr>\n",
       "    <tr>\n",
       "      <th>min</th>\n",
       "      <td>19.000000</td>\n",
       "      <td>-3313.000000</td>\n",
       "      <td>1.000000</td>\n",
       "      <td>4.000000</td>\n",
       "      <td>1.000000</td>\n",
       "      <td>-1.000000</td>\n",
       "      <td>0.000000</td>\n",
       "    </tr>\n",
       "    <tr>\n",
       "      <th>25%</th>\n",
       "      <td>33.000000</td>\n",
       "      <td>69.000000</td>\n",
       "      <td>9.000000</td>\n",
       "      <td>104.000000</td>\n",
       "      <td>1.000000</td>\n",
       "      <td>-1.000000</td>\n",
       "      <td>0.000000</td>\n",
       "    </tr>\n",
       "    <tr>\n",
       "      <th>50%</th>\n",
       "      <td>39.000000</td>\n",
       "      <td>444.000000</td>\n",
       "      <td>16.000000</td>\n",
       "      <td>185.000000</td>\n",
       "      <td>2.000000</td>\n",
       "      <td>-1.000000</td>\n",
       "      <td>0.000000</td>\n",
       "    </tr>\n",
       "    <tr>\n",
       "      <th>75%</th>\n",
       "      <td>49.000000</td>\n",
       "      <td>1480.000000</td>\n",
       "      <td>21.000000</td>\n",
       "      <td>329.000000</td>\n",
       "      <td>3.000000</td>\n",
       "      <td>-1.000000</td>\n",
       "      <td>0.000000</td>\n",
       "    </tr>\n",
       "    <tr>\n",
       "      <th>max</th>\n",
       "      <td>87.000000</td>\n",
       "      <td>71188.000000</td>\n",
       "      <td>31.000000</td>\n",
       "      <td>3025.000000</td>\n",
       "      <td>50.000000</td>\n",
       "      <td>871.000000</td>\n",
       "      <td>25.000000</td>\n",
       "    </tr>\n",
       "  </tbody>\n",
       "</table>\n",
       "</div>"
      ],
      "text/plain": [
       "               age       balance          day     duration     campaign  \\\n",
       "count  4521.000000   4521.000000  4521.000000  4521.000000  4521.000000   \n",
       "mean     41.170095   1422.657819    15.915284   263.961292     2.793630   \n",
       "std      10.576211   3009.638142     8.247667   259.856633     3.109807   \n",
       "min      19.000000  -3313.000000     1.000000     4.000000     1.000000   \n",
       "25%      33.000000     69.000000     9.000000   104.000000     1.000000   \n",
       "50%      39.000000    444.000000    16.000000   185.000000     2.000000   \n",
       "75%      49.000000   1480.000000    21.000000   329.000000     3.000000   \n",
       "max      87.000000  71188.000000    31.000000  3025.000000    50.000000   \n",
       "\n",
       "             pdays     previous  \n",
       "count  4521.000000  4521.000000  \n",
       "mean     39.766645     0.542579  \n",
       "std     100.121124     1.693562  \n",
       "min      -1.000000     0.000000  \n",
       "25%      -1.000000     0.000000  \n",
       "50%      -1.000000     0.000000  \n",
       "75%      -1.000000     0.000000  \n",
       "max     871.000000    25.000000  "
      ]
     },
     "execution_count": 91,
     "metadata": {},
     "output_type": "execute_result"
    }
   ],
   "source": [
    "data.describe()"
   ]
  },
  {
   "cell_type": "code",
   "execution_count": 92,
   "metadata": {
    "colab": {
     "base_uri": "https://localhost:8080/"
    },
    "id": "sweyoD4iidMD",
    "outputId": "2d81f147-9099-4d03-f57c-140a392a25a1"
   },
   "outputs": [
    {
     "data": {
      "text/plain": [
       "age          0\n",
       "job          0\n",
       "marital      0\n",
       "education    0\n",
       "default      0\n",
       "balance      0\n",
       "housing      0\n",
       "loan         0\n",
       "contact      0\n",
       "day          0\n",
       "month        0\n",
       "duration     0\n",
       "campaign     0\n",
       "pdays        0\n",
       "previous     0\n",
       "poutcome     0\n",
       "y            0\n",
       "dtype: int64"
      ]
     },
     "execution_count": 92,
     "metadata": {},
     "output_type": "execute_result"
    }
   ],
   "source": [
    "data.isnull().sum()"
   ]
  },
  {
   "cell_type": "code",
   "execution_count": 93,
   "metadata": {
    "colab": {
     "base_uri": "https://localhost:8080/"
    },
    "id": "GwKr2JYAinQo",
    "outputId": "c0cbe062-bffe-44dd-dd0a-bd8c571d6447"
   },
   "outputs": [
    {
     "name": "stdout",
     "output_type": "stream",
     "text": [
      "Requirement already satisfied: kmodes in c:\\users\\abhishek\\appdata\\local\\programs\\python\\python37-32\\lib\\site-packages (0.10.2)"
     ]
    },
    {
     "name": "stderr",
     "output_type": "stream",
     "text": [
      "WARNING: You are using pip version 20.3.1; however, version 20.3.3 is available.\n",
      "You should consider upgrading via the 'c:\\users\\abhishek\\appdata\\local\\programs\\python\\python37-32\\python.exe -m pip install --upgrade pip' command.\n"
     ]
    },
    {
     "name": "stdout",
     "output_type": "stream",
     "text": [
      "\n",
      "Requirement already satisfied: numpy>=1.10.4 in c:\\users\\abhishek\\appdata\\local\\programs\\python\\python37-32\\lib\\site-packages (from kmodes) (1.19.0)\n",
      "Requirement already satisfied: scipy>=0.13.3 in c:\\users\\abhishek\\appdata\\local\\programs\\python\\python37-32\\lib\\site-packages (from kmodes) (1.5.3)\n",
      "Requirement already satisfied: scikit-learn>=0.19.0 in c:\\users\\abhishek\\appdata\\local\\programs\\python\\python37-32\\lib\\site-packages (from kmodes) (0.23.2)\n",
      "Requirement already satisfied: joblib>=0.11 in c:\\users\\abhishek\\appdata\\local\\programs\\python\\python37-32\\lib\\site-packages (from kmodes) (0.17.0)\n",
      "Requirement already satisfied: threadpoolctl>=2.0.0 in c:\\users\\abhishek\\appdata\\local\\programs\\python\\python37-32\\lib\\site-packages (from scikit-learn>=0.19.0->kmodes) (2.1.0)\n",
      "Requirement already satisfied: numpy>=1.10.4 in c:\\users\\abhishek\\appdata\\local\\programs\\python\\python37-32\\lib\\site-packages (from kmodes) (1.19.0)\n",
      "Requirement already satisfied: scipy>=0.13.3 in c:\\users\\abhishek\\appdata\\local\\programs\\python\\python37-32\\lib\\site-packages (from kmodes) (1.5.3)\n",
      "Requirement already satisfied: joblib>=0.11 in c:\\users\\abhishek\\appdata\\local\\programs\\python\\python37-32\\lib\\site-packages (from kmodes) (0.17.0)\n",
      "Requirement already satisfied: numpy>=1.10.4 in c:\\users\\abhishek\\appdata\\local\\programs\\python\\python37-32\\lib\\site-packages (from kmodes) (1.19.0)\n"
     ]
    }
   ],
   "source": [
    "!pip install kmodes"
   ]
  },
  {
   "cell_type": "code",
   "execution_count": 94,
   "metadata": {
    "id": "JXCDp7ySix3-"
   },
   "outputs": [],
   "source": [
    "from kmodes.kprototypes import KPrototypes"
   ]
  },
  {
   "cell_type": "code",
   "execution_count": 95,
   "metadata": {
    "id": "y6-XVrtqkJ2t"
   },
   "outputs": [],
   "source": [
    "data=data.drop(['contact','day','month','duration','campaign','pdays','previous','poutcome','y'],axis=1)\n"
   ]
  },
  {
   "cell_type": "code",
   "execution_count": 96,
   "metadata": {
    "colab": {
     "base_uri": "https://localhost:8080/"
    },
    "id": "JnaSCmKSWQxR",
    "outputId": "d30f2f95-fde9-4191-ef54-a122b72b1b48"
   },
   "outputs": [
    {
     "data": {
      "text/plain": [
       "4521"
      ]
     },
     "execution_count": 96,
     "metadata": {},
     "output_type": "execute_result"
    }
   ],
   "source": [
    "len(data)"
   ]
  },
  {
   "cell_type": "code",
   "execution_count": 97,
   "metadata": {
    "colab": {
     "base_uri": "https://localhost:8080/",
     "height": 204
    },
    "id": "s2SZQ0SImWft",
    "outputId": "a43468dc-d6f0-4b42-9b63-098858a94576"
   },
   "outputs": [
    {
     "data": {
      "text/html": [
       "<div>\n",
       "<style scoped>\n",
       "    .dataframe tbody tr th:only-of-type {\n",
       "        vertical-align: middle;\n",
       "    }\n",
       "\n",
       "    .dataframe tbody tr th {\n",
       "        vertical-align: top;\n",
       "    }\n",
       "\n",
       "    .dataframe thead th {\n",
       "        text-align: right;\n",
       "    }\n",
       "</style>\n",
       "<table border=\"1\" class=\"dataframe\">\n",
       "  <thead>\n",
       "    <tr style=\"text-align: right;\">\n",
       "      <th></th>\n",
       "      <th>age</th>\n",
       "      <th>job</th>\n",
       "      <th>marital</th>\n",
       "      <th>education</th>\n",
       "      <th>default</th>\n",
       "      <th>balance</th>\n",
       "      <th>housing</th>\n",
       "      <th>loan</th>\n",
       "    </tr>\n",
       "  </thead>\n",
       "  <tbody>\n",
       "    <tr>\n",
       "      <th>0</th>\n",
       "      <td>30</td>\n",
       "      <td>unemployed</td>\n",
       "      <td>married</td>\n",
       "      <td>primary</td>\n",
       "      <td>no</td>\n",
       "      <td>1787</td>\n",
       "      <td>no</td>\n",
       "      <td>no</td>\n",
       "    </tr>\n",
       "    <tr>\n",
       "      <th>1</th>\n",
       "      <td>33</td>\n",
       "      <td>services</td>\n",
       "      <td>married</td>\n",
       "      <td>secondary</td>\n",
       "      <td>no</td>\n",
       "      <td>4789</td>\n",
       "      <td>yes</td>\n",
       "      <td>yes</td>\n",
       "    </tr>\n",
       "    <tr>\n",
       "      <th>2</th>\n",
       "      <td>35</td>\n",
       "      <td>management</td>\n",
       "      <td>single</td>\n",
       "      <td>tertiary</td>\n",
       "      <td>no</td>\n",
       "      <td>1350</td>\n",
       "      <td>yes</td>\n",
       "      <td>no</td>\n",
       "    </tr>\n",
       "    <tr>\n",
       "      <th>3</th>\n",
       "      <td>30</td>\n",
       "      <td>management</td>\n",
       "      <td>married</td>\n",
       "      <td>tertiary</td>\n",
       "      <td>no</td>\n",
       "      <td>1476</td>\n",
       "      <td>yes</td>\n",
       "      <td>yes</td>\n",
       "    </tr>\n",
       "    <tr>\n",
       "      <th>4</th>\n",
       "      <td>59</td>\n",
       "      <td>blue-collar</td>\n",
       "      <td>married</td>\n",
       "      <td>secondary</td>\n",
       "      <td>no</td>\n",
       "      <td>0</td>\n",
       "      <td>yes</td>\n",
       "      <td>no</td>\n",
       "    </tr>\n",
       "  </tbody>\n",
       "</table>\n",
       "</div>"
      ],
      "text/plain": [
       "   age          job  marital  education default  balance housing loan\n",
       "0   30   unemployed  married    primary      no     1787      no   no\n",
       "1   33     services  married  secondary      no     4789     yes  yes\n",
       "2   35   management   single   tertiary      no     1350     yes   no\n",
       "3   30   management  married   tertiary      no     1476     yes  yes\n",
       "4   59  blue-collar  married  secondary      no        0     yes   no"
      ]
     },
     "execution_count": 97,
     "metadata": {},
     "output_type": "execute_result"
    }
   ],
   "source": [
    "data.head(5)"
   ]
  },
  {
   "cell_type": "code",
   "execution_count": 98,
   "metadata": {
    "id": "RtNmIJJXmef5"
   },
   "outputs": [],
   "source": [
    "input=data.to_numpy()"
   ]
  },
  {
   "cell_type": "code",
   "execution_count": 99,
   "metadata": {
    "colab": {
     "base_uri": "https://localhost:8080/"
    },
    "id": "YcA6oHnum_4z",
    "outputId": "e73a0316-250a-4d12-ce1e-de5e40b14dfe"
   },
   "outputs": [
    {
     "data": {
      "text/plain": [
       "array([[30, 'unemployed', 'married', ..., 1787, 'no', 'no'],\n",
       "       [33, 'services', 'married', ..., 4789, 'yes', 'yes'],\n",
       "       [35, 'management', 'single', ..., 1350, 'yes', 'no'],\n",
       "       ...,\n",
       "       [57, 'technician', 'married', ..., 295, 'no', 'no'],\n",
       "       [28, 'blue-collar', 'married', ..., 1137, 'no', 'no'],\n",
       "       [44, 'entrepreneur', 'single', ..., 1136, 'yes', 'yes']],\n",
       "      dtype=object)"
      ]
     },
     "execution_count": 99,
     "metadata": {},
     "output_type": "execute_result"
    }
   ],
   "source": [
    "input"
   ]
  },
  {
   "cell_type": "code",
   "execution_count": 100,
   "metadata": {
    "id": "FzxP5Ij2oyVT"
   },
   "outputs": [],
   "source": [
    "data['age']=data['age'].astype(float)\n",
    "data['balance']=data['balance'].astype(float)"
   ]
  },
  {
   "cell_type": "code",
   "execution_count": 101,
   "metadata": {
    "colab": {
     "base_uri": "https://localhost:8080/"
    },
    "id": "dk_qC3I0nDGw",
    "outputId": "fd31c0d6-6097-4a5c-a858-91d35790e199"
   },
   "outputs": [
    {
     "name": "stdout",
     "output_type": "stream",
     "text": [
      "Init: initializing centroids\n",
      "Init: initializing clusters\n",
      "Starting iterations...\n",
      "Run: 1, iteration: 1/20, moves: 1941, ncost: 15607829310.057137\n",
      "Run: 1, iteration: 2/20, moves: 1377, ncost: 12657717051.661098\n",
      "Run: 1, iteration: 3/20, moves: 509, ncost: 11113413964.53866\n",
      "Run: 1, iteration: 4/20, moves: 246, ncost: 10089644678.585632\n",
      "Run: 1, iteration: 5/20, moves: 119, ncost: 9664894657.192202\n",
      "Run: 1, iteration: 6/20, moves: 59, ncost: 9595908430.803173\n",
      "Run: 1, iteration: 7/20, moves: 35, ncost: 9561732587.913853\n",
      "Run: 1, iteration: 8/20, moves: 26, ncost: 9527218571.238554\n",
      "Run: 1, iteration: 9/20, moves: 8, ncost: 9523496792.954126\n",
      "Run: 1, iteration: 10/20, moves: 0, ncost: 9523496792.954126\n",
      "Init: initializing centroids\n",
      "Init: initializing clusters\n",
      "Starting iterations...\n",
      "Run: 2, iteration: 1/20, moves: 1100, ncost: 19534510959.364887\n",
      "Run: 2, iteration: 2/20, moves: 2073, ncost: 15844236572.714476\n",
      "Run: 2, iteration: 3/20, moves: 1035, ncost: 12754503414.607729\n",
      "Run: 2, iteration: 4/20, moves: 497, ncost: 11125404122.307571\n",
      "Run: 2, iteration: 5/20, moves: 246, ncost: 10089644678.585632\n",
      "Run: 2, iteration: 6/20, moves: 119, ncost: 9664894657.192202\n",
      "Run: 2, iteration: 7/20, moves: 59, ncost: 9595908430.803173\n",
      "Run: 2, iteration: 8/20, moves: 35, ncost: 9561732587.913853\n",
      "Run: 2, iteration: 9/20, moves: 26, ncost: 9527218571.238554\n",
      "Run: 2, iteration: 10/20, moves: 8, ncost: 9523496792.954126\n",
      "Run: 2, iteration: 11/20, moves: 0, ncost: 9523496792.954126\n",
      "Init: initializing centroids\n",
      "Init: initializing clusters\n",
      "Starting iterations...\n",
      "Run: 3, iteration: 1/20, moves: 233, ncost: 11825806862.099497\n",
      "Run: 3, iteration: 2/20, moves: 214, ncost: 10500113149.061335\n",
      "Run: 3, iteration: 3/20, moves: 149, ncost: 9806287723.709105\n",
      "Run: 3, iteration: 4/20, moves: 81, ncost: 9638543657.37879\n",
      "Run: 3, iteration: 5/20, moves: 47, ncost: 9576537215.754866\n",
      "Run: 3, iteration: 6/20, moves: 27, ncost: 9554306453.678183\n",
      "Run: 3, iteration: 7/20, moves: 19, ncost: 9526856476.746733\n",
      "Run: 3, iteration: 8/20, moves: 6, ncost: 9523496792.954126\n",
      "Run: 3, iteration: 9/20, moves: 0, ncost: 9523496792.954126\n",
      "Init: initializing centroids\n",
      "Init: initializing clusters\n",
      "Starting iterations...\n",
      "Run: 4, iteration: 1/20, moves: 102, ncost: 10379624500.32523\n",
      "Run: 4, iteration: 2/20, moves: 99, ncost: 9766807700.369589\n",
      "Run: 4, iteration: 3/20, moves: 67, ncost: 9633236294.675573\n",
      "Run: 4, iteration: 4/20, moves: 42, ncost: 9575039176.58857\n",
      "Run: 4, iteration: 5/20, moves: 34, ncost: 9532242363.731165\n",
      "Run: 4, iteration: 6/20, moves: 13, ncost: 9523507648.113214\n",
      "Run: 4, iteration: 7/20, moves: 1, ncost: 9523496792.954126\n",
      "Run: 4, iteration: 8/20, moves: 0, ncost: 9523496792.954126\n",
      "Init: initializing centroids\n",
      "Init: initializing clusters\n",
      "Starting iterations...\n",
      "Run: 5, iteration: 1/20, moves: 245, ncost: 9988666151.59389\n",
      "Run: 5, iteration: 2/20, moves: 49, ncost: 9650334438.885092\n",
      "Run: 5, iteration: 3/20, moves: 46, ncost: 9581212907.704302\n",
      "Run: 5, iteration: 4/20, moves: 30, ncost: 9558932539.360582\n",
      "Run: 5, iteration: 5/20, moves: 20, ncost: 9526856476.746733\n",
      "Run: 5, iteration: 6/20, moves: 6, ncost: 9523496792.954126\n",
      "Run: 5, iteration: 7/20, moves: 0, ncost: 9523496792.954126\n",
      "Init: initializing centroids\n",
      "Init: initializing clusters\n",
      "Starting iterations...\n",
      "Run: 6, iteration: 1/20, moves: 1594, ncost: 16701587849.7066\n",
      "Run: 6, iteration: 2/20, moves: 1644, ncost: 13288688311.644623\n",
      "Run: 6, iteration: 3/20, moves: 612, ncost: 11418065951.128408\n",
      "Run: 6, iteration: 4/20, moves: 298, ncost: 10246531379.005215\n",
      "Run: 6, iteration: 5/20, moves: 147, ncost: 9701040632.3928\n",
      "Run: 6, iteration: 6/20, moves: 72, ncost: 9605662880.332268\n",
      "Run: 6, iteration: 7/20, moves: 41, ncost: 9567757831.912066\n",
      "Run: 6, iteration: 8/20, moves: 29, ncost: 9527218571.238554\n",
      "Run: 6, iteration: 9/20, moves: 8, ncost: 9523496792.954126\n",
      "Run: 6, iteration: 10/20, moves: 0, ncost: 9523496792.954126\n",
      "Init: initializing centroids\n",
      "Init: initializing clusters\n",
      "Starting iterations...\n",
      "Run: 7, iteration: 1/20, moves: 1180, ncost: 14787278164.053686\n",
      "Run: 7, iteration: 2/20, moves: 717, ncost: 12315891636.954605\n",
      "Run: 7, iteration: 3/20, moves: 395, ncost: 10931547529.271177\n",
      "Run: 7, iteration: 4/20, moves: 214, ncost: 9951316291.580862\n",
      "Run: 7, iteration: 5/20, moves: 111, ncost: 9648837848.95956\n",
      "Run: 7, iteration: 6/20, moves: 56, ncost: 9578006107.79555\n",
      "Run: 7, iteration: 7/20, moves: 30, ncost: 9558932539.360582\n",
      "Run: 7, iteration: 8/20, moves: 20, ncost: 9526856476.746733\n",
      "Run: 7, iteration: 9/20, moves: 6, ncost: 9523496792.954126\n",
      "Run: 7, iteration: 10/20, moves: 0, ncost: 9523496792.954126\n",
      "Init: initializing centroids\n",
      "Init: initializing clusters\n",
      "Starting iterations...\n",
      "Run: 8, iteration: 1/20, moves: 1092, ncost: 19404951799.881207\n",
      "Run: 8, iteration: 2/20, moves: 2066, ncost: 15788208430.065763\n",
      "Run: 8, iteration: 3/20, moves: 1004, ncost: 12731761453.258492\n",
      "Run: 8, iteration: 4/20, moves: 492, ncost: 11120984028.157463\n",
      "Run: 8, iteration: 5/20, moves: 243, ncost: 10089644678.585632\n",
      "Run: 8, iteration: 6/20, moves: 119, ncost: 9664894657.192202\n",
      "Run: 8, iteration: 7/20, moves: 59, ncost: 9595908430.803173\n",
      "Run: 8, iteration: 8/20, moves: 35, ncost: 9561732587.913853\n",
      "Run: 8, iteration: 9/20, moves: 26, ncost: 9527218571.238554\n",
      "Run: 8, iteration: 10/20, moves: 8, ncost: 9523496792.954126\n",
      "Run: 8, iteration: 11/20, moves: 0, ncost: 9523496792.954126\n",
      "Init: initializing centroids\n",
      "Init: initializing clusters\n",
      "Starting iterations...\n",
      "Run: 9, iteration: 1/20, moves: 444, ncost: 13445048930.433088\n",
      "Run: 9, iteration: 2/20, moves: 425, ncost: 11412671680.060444\n",
      "Run: 9, iteration: 3/20, moves: 261, ncost: 10238281786.405298\n",
      "Run: 9, iteration: 4/20, moves: 141, ncost: 9701040632.3928\n",
      "Run: 9, iteration: 5/20, moves: 72, ncost: 9605662880.332268\n",
      "Run: 9, iteration: 6/20, moves: 41, ncost: 9567757831.912066\n",
      "Run: 9, iteration: 7/20, moves: 29, ncost: 9527218571.238554\n",
      "Run: 9, iteration: 8/20, moves: 8, ncost: 9523496792.954126\n",
      "Run: 9, iteration: 9/20, moves: 0, ncost: 9523496792.954126\n",
      "Init: initializing centroids\n",
      "Init: initializing clusters\n",
      "Starting iterations...\n",
      "Run: 10, iteration: 1/20, moves: 947, ncost: 14566577374.550264\n",
      "Run: 10, iteration: 2/20, moves: 639, ncost: 12107108504.238216\n",
      "Run: 10, iteration: 3/20, moves: 371, ncost: 10709906894.420454\n",
      "Run: 10, iteration: 4/20, moves: 198, ncost: 9872110039.312965\n",
      "Run: 10, iteration: 5/20, moves: 94, ncost: 9645160039.81064\n",
      "Run: 10, iteration: 6/20, moves: 52, ncost: 9576893859.568378\n",
      "Run: 10, iteration: 7/20, moves: 28, ncost: 9554306453.678183\n",
      "Run: 10, iteration: 8/20, moves: 19, ncost: 9526856476.746733\n",
      "Run: 10, iteration: 9/20, moves: 6, ncost: 9523496792.954126\n",
      "Run: 10, iteration: 10/20, moves: 0, ncost: 9523496792.954126\n",
      "Best run was number 1\n"
     ]
    }
   ],
   "source": [
    "kp=KPrototypes(n_clusters=3,max_iter=20,verbose=2)\n",
    "clusters=kp.fit_predict(input,categorical=[1,2,3,4,6,7])"
   ]
  },
  {
   "cell_type": "code",
   "execution_count": 102,
   "metadata": {
    "colab": {
     "base_uri": "https://localhost:8080/"
    },
    "id": "H52DbYFTsCpx",
    "outputId": "249449bc-c84d-40f5-811f-6165f0074f00"
   },
   "outputs": [
    {
     "name": "stdout",
     "output_type": "stream",
     "text": [
      "[array([[   40.84557682,   543.9306777 ],\n",
      "       [   42.91111111,  5202.86495726],\n",
      "       [   44.54285714, 18361.77142857]]), array([['blue-collar', 'married', 'secondary', 'no', 'yes', 'no'],\n",
      "       ['management', 'married', 'secondary', 'no', 'yes', 'no'],\n",
      "       ['management', 'married', 'tertiary', 'no', 'no', 'no']],\n",
      "      dtype='<U11')]\n"
     ]
    }
   ],
   "source": [
    "print(kp.cluster_centroids_)"
   ]
  },
  {
   "cell_type": "code",
   "execution_count": 103,
   "metadata": {
    "colab": {
     "base_uri": "https://localhost:8080/"
    },
    "id": "HRSuackhs7eF",
    "outputId": "74ffe27b-16f1-4e2e-dfca-c5bf8cc41784"
   },
   "outputs": [
    {
     "name": "stdout",
     "output_type": "stream",
     "text": [
      "[0 1 0 ... 0 0 0]\n"
     ]
    }
   ],
   "source": [
    "print(clusters)"
   ]
  },
  {
   "cell_type": "code",
   "execution_count": 104,
   "metadata": {
    "id": "ddSd3nxjstGv"
   },
   "outputs": [],
   "source": [
    "cluster_list=[]\n",
    "for c in clusters:\n",
    "  cluster_list.append(c)"
   ]
  },
  {
   "cell_type": "code",
   "execution_count": 105,
   "metadata": {
    "colab": {
     "base_uri": "https://localhost:8080/"
    },
    "id": "ubVvFB5utCVT",
    "outputId": "6d72f716-eb87-4e80-e928-0cfff4c6f711"
   },
   "outputs": [
    {
     "data": {
      "text/plain": [
       "3"
      ]
     },
     "execution_count": 105,
     "metadata": {},
     "output_type": "execute_result"
    }
   ],
   "source": [
    "no_of_clusters=max(cluster_list)+1\n",
    "no_of_clusters"
   ]
  },
  {
   "cell_type": "code",
   "execution_count": 106,
   "metadata": {
    "id": "W7j2J5sBtH4T"
   },
   "outputs": [],
   "source": [
    "data['cluster_no']=cluster_list"
   ]
  },
  {
   "cell_type": "code",
   "execution_count": 107,
   "metadata": {
    "colab": {
     "base_uri": "https://localhost:8080/",
     "height": 204
    },
    "id": "kTUsPEGqtWwk",
    "outputId": "3d4fb64c-89ce-437d-c7f1-283027ef512e"
   },
   "outputs": [
    {
     "data": {
      "text/html": [
       "<div>\n",
       "<style scoped>\n",
       "    .dataframe tbody tr th:only-of-type {\n",
       "        vertical-align: middle;\n",
       "    }\n",
       "\n",
       "    .dataframe tbody tr th {\n",
       "        vertical-align: top;\n",
       "    }\n",
       "\n",
       "    .dataframe thead th {\n",
       "        text-align: right;\n",
       "    }\n",
       "</style>\n",
       "<table border=\"1\" class=\"dataframe\">\n",
       "  <thead>\n",
       "    <tr style=\"text-align: right;\">\n",
       "      <th></th>\n",
       "      <th>age</th>\n",
       "      <th>job</th>\n",
       "      <th>marital</th>\n",
       "      <th>education</th>\n",
       "      <th>default</th>\n",
       "      <th>balance</th>\n",
       "      <th>housing</th>\n",
       "      <th>loan</th>\n",
       "      <th>cluster_no</th>\n",
       "    </tr>\n",
       "  </thead>\n",
       "  <tbody>\n",
       "    <tr>\n",
       "      <th>0</th>\n",
       "      <td>30.0</td>\n",
       "      <td>unemployed</td>\n",
       "      <td>married</td>\n",
       "      <td>primary</td>\n",
       "      <td>no</td>\n",
       "      <td>1787.0</td>\n",
       "      <td>no</td>\n",
       "      <td>no</td>\n",
       "      <td>0</td>\n",
       "    </tr>\n",
       "    <tr>\n",
       "      <th>1</th>\n",
       "      <td>33.0</td>\n",
       "      <td>services</td>\n",
       "      <td>married</td>\n",
       "      <td>secondary</td>\n",
       "      <td>no</td>\n",
       "      <td>4789.0</td>\n",
       "      <td>yes</td>\n",
       "      <td>yes</td>\n",
       "      <td>1</td>\n",
       "    </tr>\n",
       "    <tr>\n",
       "      <th>2</th>\n",
       "      <td>35.0</td>\n",
       "      <td>management</td>\n",
       "      <td>single</td>\n",
       "      <td>tertiary</td>\n",
       "      <td>no</td>\n",
       "      <td>1350.0</td>\n",
       "      <td>yes</td>\n",
       "      <td>no</td>\n",
       "      <td>0</td>\n",
       "    </tr>\n",
       "    <tr>\n",
       "      <th>3</th>\n",
       "      <td>30.0</td>\n",
       "      <td>management</td>\n",
       "      <td>married</td>\n",
       "      <td>tertiary</td>\n",
       "      <td>no</td>\n",
       "      <td>1476.0</td>\n",
       "      <td>yes</td>\n",
       "      <td>yes</td>\n",
       "      <td>0</td>\n",
       "    </tr>\n",
       "    <tr>\n",
       "      <th>4</th>\n",
       "      <td>59.0</td>\n",
       "      <td>blue-collar</td>\n",
       "      <td>married</td>\n",
       "      <td>secondary</td>\n",
       "      <td>no</td>\n",
       "      <td>0.0</td>\n",
       "      <td>yes</td>\n",
       "      <td>no</td>\n",
       "      <td>0</td>\n",
       "    </tr>\n",
       "  </tbody>\n",
       "</table>\n",
       "</div>"
      ],
      "text/plain": [
       "    age          job  marital  education default  balance housing loan  \\\n",
       "0  30.0   unemployed  married    primary      no   1787.0      no   no   \n",
       "1  33.0     services  married  secondary      no   4789.0     yes  yes   \n",
       "2  35.0   management   single   tertiary      no   1350.0     yes   no   \n",
       "3  30.0   management  married   tertiary      no   1476.0     yes  yes   \n",
       "4  59.0  blue-collar  married  secondary      no      0.0     yes   no   \n",
       "\n",
       "   cluster_no  \n",
       "0           0  \n",
       "1           1  \n",
       "2           0  \n",
       "3           0  \n",
       "4           0  "
      ]
     },
     "execution_count": 107,
     "metadata": {},
     "output_type": "execute_result"
    }
   ],
   "source": [
    "data.head()"
   ]
  },
  {
   "cell_type": "code",
   "execution_count": 108,
   "metadata": {
    "colab": {
     "base_uri": "https://localhost:8080/"
    },
    "id": "FCgUOhy8JIVa",
    "outputId": "e69a8958-b2ca-43c8-c894-83b15a4a3b0a"
   },
   "outputs": [
    {
     "name": "stdout",
     "output_type": "stream",
     "text": [
      "       age            job  marital  education default  balance housing loan  \\\n",
      "0     30.0     unemployed  married    primary      no   1787.0      no   no   \n",
      "2     35.0     management   single   tertiary      no   1350.0     yes   no   \n",
      "3     30.0     management  married   tertiary      no   1476.0     yes  yes   \n",
      "4     59.0    blue-collar  married  secondary      no      0.0     yes   no   \n",
      "5     35.0     management   single   tertiary      no    747.0      no   no   \n",
      "...    ...            ...      ...        ...     ...      ...     ...  ...   \n",
      "4516  33.0       services  married  secondary      no   -333.0     yes   no   \n",
      "4517  57.0  self-employed  married   tertiary     yes  -3313.0     yes  yes   \n",
      "4518  57.0     technician  married  secondary      no    295.0      no   no   \n",
      "4519  28.0    blue-collar  married  secondary      no   1137.0      no   no   \n",
      "4520  44.0   entrepreneur   single   tertiary      no   1136.0     yes  yes   \n",
      "\n",
      "      cluster_no  \n",
      "0              0  \n",
      "2              0  \n",
      "3              0  \n",
      "4              0  \n",
      "5              0  \n",
      "...          ...  \n",
      "4516           0  \n",
      "4517           0  \n",
      "4518           0  \n",
      "4519           0  \n",
      "4520           0  \n",
      "\n",
      "[3866 rows x 9 columns]\n",
      "       age         job   marital  education default  balance housing loan  \\\n",
      "1     33.0    services   married  secondary      no   4789.0     yes  yes   \n",
      "10    39.0    services   married  secondary      no   9374.0     yes   no   \n",
      "16    56.0  technician   married  secondary      no   4073.0      no   no   \n",
      "25    41.0  management   married   tertiary      no   5883.0      no   no   \n",
      "30    68.0     retired  divorced  secondary      no   4189.0      no   no   \n",
      "...    ...         ...       ...        ...     ...      ...     ...  ...   \n",
      "4473  33.0  technician   married  secondary      no   4790.0     yes   no   \n",
      "4484  38.0  management   married   tertiary      no   3436.0      no   no   \n",
      "4489  45.0  management   married   tertiary      no   6945.0      no   no   \n",
      "4490  58.0      admin.   married  secondary      no   3496.0     yes   no   \n",
      "4500  38.0      admin.   married  secondary      no   4196.0     yes   no   \n",
      "\n",
      "      cluster_no  \n",
      "1              1  \n",
      "10             1  \n",
      "16             1  \n",
      "25             1  \n",
      "30             1  \n",
      "...          ...  \n",
      "4473           1  \n",
      "4484           1  \n",
      "4489           1  \n",
      "4490           1  \n",
      "4500           1  \n",
      "\n",
      "[585 rows x 9 columns]\n",
      "       age          job  marital  education default  balance housing loan  \\\n",
      "40    38.0   management   single   tertiary      no  11971.0     yes   no   \n",
      "64    56.0       admin.  married  secondary      no  16873.0      no   no   \n",
      "94    57.0  blue-collar  married  secondary      no  14093.0      no   no   \n",
      "272   46.0   management  married  secondary      no  12186.0      no   no   \n",
      "500   32.0   management   single   tertiary      no  12607.0      no   no   \n",
      "...    ...          ...      ...        ...     ...      ...     ...  ...   \n",
      "4338  50.0   management  married   tertiary      no  19447.0     yes  yes   \n",
      "4363  38.0  blue-collar   single  secondary      no  13156.0     yes   no   \n",
      "4369  57.0   technician  married  secondary      no  16063.0     yes   no   \n",
      "4440  45.0  blue-collar  married    primary      no  13117.0      no   no   \n",
      "4441  38.0   management  married   tertiary      no  12877.0      no   no   \n",
      "\n",
      "      cluster_no  \n",
      "40             2  \n",
      "64             2  \n",
      "94             2  \n",
      "272            2  \n",
      "500            2  \n",
      "...          ...  \n",
      "4338           2  \n",
      "4363           2  \n",
      "4369           2  \n",
      "4440           2  \n",
      "4441           2  \n",
      "\n",
      "[70 rows x 9 columns]\n"
     ]
    }
   ],
   "source": [
    "for i in range(0,no_of_clusters):\n",
    "  print(data[data['cluster_no']==i])"
   ]
  },
  {
   "cell_type": "markdown",
   "metadata": {
    "id": "GaveSm3_MVRU"
   },
   "source": [
    "# Applying algorithm"
   ]
  },
  {
   "cell_type": "code",
   "execution_count": 109,
   "metadata": {
    "id": "uwX0egN2M5ib"
   },
   "outputs": [],
   "source": [
    "#No of nodes\n",
    "n=3"
   ]
  },
  {
   "cell_type": "code",
   "execution_count": 110,
   "metadata": {
    "id": "oSxg5DYOSBxK"
   },
   "outputs": [],
   "source": [
    "def find_similarity(data1,data2):\n",
    "     return len(pd.merge(data1,data2,how='inner',on=['age',\t'job',\t'marital','education'\t,'default',\t'balance',\t'housing','loan']))/len(pd.concat([data1,data2]))"
   ]
  },
  {
   "cell_type": "code",
   "execution_count": 111,
   "metadata": {
    "id": "Iph8299uW5zl"
   },
   "outputs": [],
   "source": [
    "def merge(data1,data2):\n",
    "  cno=data1[0]['cluster_no']\n",
    "  data2.drop('cluster_no')\n",
    "  data2['cluster_no']=[cno]*len(data2)\n",
    "  return pd.concat(data1,data2)"
   ]
  },
  {
   "cell_type": "code",
   "execution_count": 112,
   "metadata": {
    "id": "ZsaqzHC5MaeS"
   },
   "outputs": [],
   "source": [
    "df={}\n",
    "frag_after_merge={}\n",
    "rows, cols = (no_of_clusters-1, no_of_clusters-1) \n",
    "similar = [[0]*cols]*rows \n",
    "def find_clustered_fragment(data,n):\n",
    "    for i in range(0,no_of_clusters):\n",
    "      new_data=data[data['cluster_no']==i]\n",
    "      df[i]=pd.DataFrame(new_data,columns=data.columns)\n",
    "    for data1 in df.values():\n",
    "      for data2 in df.values():\n",
    "        if data1.equals(data2)==False:\n",
    "          similar.append(find_similarity(data1,data2))\n",
    "    i=no_of_clusters\n",
    "    j=0\n",
    "    while i>n:\n",
    "       for data1 in df.values():\n",
    "          for data2 in df.values():\n",
    "            iwhf data1.equals(data2)==False:\n",
    "              temp=merge(data1,data2)\n",
    "              frag_after_merge[j]=pd.DataFrame(temp,columns=data.columns)\n",
    "              j+=1\n",
    "\n"
   ]
  },
  {
   "cell_type": "code",
   "execution_count": 113,
   "metadata": {
    "colab": {
     "base_uri": "https://localhost:8080/"
    },
    "id": "xXBo2YBtPIYR",
    "outputId": "f7764778-014b-4647-8abf-6eaf2a129497"
   },
   "outputs": [],
   "source": [
    "find_clustered_fragment(data,3)"
   ]
  },
  {
   "cell_type": "code",
   "execution_count": 114,
   "metadata": {
    "colab": {
     "base_uri": "https://localhost:8080/"
    },
    "id": "OJQlIJ6fcTPx",
    "outputId": "f3553f2d-3f91-4c0a-9220-47a6d387b973"
   },
   "outputs": [],
   "source": [
    "find_clustered_fragment(data,3)"
   ]
  },
  {
   "cell_type": "code",
   "execution_count": 115,
   "metadata": {},
   "outputs": [
    {
     "data": {
      "text/plain": [
       "{}"
      ]
     },
     "execution_count": 115,
     "metadata": {},
     "output_type": "execute_result"
    }
   ],
   "source": [
    "frag_after_merge"
   ]
  },
  {
   "cell_type": "code",
   "execution_count": 116,
   "metadata": {},
   "outputs": [
    {
     "data": {
      "text/html": [
       "<div>\n",
       "<style scoped>\n",
       "    .dataframe tbody tr th:only-of-type {\n",
       "        vertical-align: middle;\n",
       "    }\n",
       "\n",
       "    .dataframe tbody tr th {\n",
       "        vertical-align: top;\n",
       "    }\n",
       "\n",
       "    .dataframe thead th {\n",
       "        text-align: right;\n",
       "    }\n",
       "</style>\n",
       "<table border=\"1\" class=\"dataframe\">\n",
       "  <thead>\n",
       "    <tr style=\"text-align: right;\">\n",
       "      <th></th>\n",
       "      <th>age</th>\n",
       "      <th>job</th>\n",
       "      <th>marital</th>\n",
       "      <th>education</th>\n",
       "      <th>default</th>\n",
       "      <th>balance</th>\n",
       "      <th>housing</th>\n",
       "      <th>loan</th>\n",
       "      <th>cluster_no</th>\n",
       "    </tr>\n",
       "  </thead>\n",
       "  <tbody>\n",
       "    <tr>\n",
       "      <th>40</th>\n",
       "      <td>38.0</td>\n",
       "      <td>management</td>\n",
       "      <td>single</td>\n",
       "      <td>tertiary</td>\n",
       "      <td>no</td>\n",
       "      <td>11971.0</td>\n",
       "      <td>yes</td>\n",
       "      <td>no</td>\n",
       "      <td>2</td>\n",
       "    </tr>\n",
       "    <tr>\n",
       "      <th>64</th>\n",
       "      <td>56.0</td>\n",
       "      <td>admin.</td>\n",
       "      <td>married</td>\n",
       "      <td>secondary</td>\n",
       "      <td>no</td>\n",
       "      <td>16873.0</td>\n",
       "      <td>no</td>\n",
       "      <td>no</td>\n",
       "      <td>2</td>\n",
       "    </tr>\n",
       "    <tr>\n",
       "      <th>94</th>\n",
       "      <td>57.0</td>\n",
       "      <td>blue-collar</td>\n",
       "      <td>married</td>\n",
       "      <td>secondary</td>\n",
       "      <td>no</td>\n",
       "      <td>14093.0</td>\n",
       "      <td>no</td>\n",
       "      <td>no</td>\n",
       "      <td>2</td>\n",
       "    </tr>\n",
       "    <tr>\n",
       "      <th>272</th>\n",
       "      <td>46.0</td>\n",
       "      <td>management</td>\n",
       "      <td>married</td>\n",
       "      <td>secondary</td>\n",
       "      <td>no</td>\n",
       "      <td>12186.0</td>\n",
       "      <td>no</td>\n",
       "      <td>no</td>\n",
       "      <td>2</td>\n",
       "    </tr>\n",
       "    <tr>\n",
       "      <th>500</th>\n",
       "      <td>32.0</td>\n",
       "      <td>management</td>\n",
       "      <td>single</td>\n",
       "      <td>tertiary</td>\n",
       "      <td>no</td>\n",
       "      <td>12607.0</td>\n",
       "      <td>no</td>\n",
       "      <td>no</td>\n",
       "      <td>2</td>\n",
       "    </tr>\n",
       "    <tr>\n",
       "      <th>...</th>\n",
       "      <td>...</td>\n",
       "      <td>...</td>\n",
       "      <td>...</td>\n",
       "      <td>...</td>\n",
       "      <td>...</td>\n",
       "      <td>...</td>\n",
       "      <td>...</td>\n",
       "      <td>...</td>\n",
       "      <td>...</td>\n",
       "    </tr>\n",
       "    <tr>\n",
       "      <th>4338</th>\n",
       "      <td>50.0</td>\n",
       "      <td>management</td>\n",
       "      <td>married</td>\n",
       "      <td>tertiary</td>\n",
       "      <td>no</td>\n",
       "      <td>19447.0</td>\n",
       "      <td>yes</td>\n",
       "      <td>yes</td>\n",
       "      <td>2</td>\n",
       "    </tr>\n",
       "    <tr>\n",
       "      <th>4363</th>\n",
       "      <td>38.0</td>\n",
       "      <td>blue-collar</td>\n",
       "      <td>single</td>\n",
       "      <td>secondary</td>\n",
       "      <td>no</td>\n",
       "      <td>13156.0</td>\n",
       "      <td>yes</td>\n",
       "      <td>no</td>\n",
       "      <td>2</td>\n",
       "    </tr>\n",
       "    <tr>\n",
       "      <th>4369</th>\n",
       "      <td>57.0</td>\n",
       "      <td>technician</td>\n",
       "      <td>married</td>\n",
       "      <td>secondary</td>\n",
       "      <td>no</td>\n",
       "      <td>16063.0</td>\n",
       "      <td>yes</td>\n",
       "      <td>no</td>\n",
       "      <td>2</td>\n",
       "    </tr>\n",
       "    <tr>\n",
       "      <th>4440</th>\n",
       "      <td>45.0</td>\n",
       "      <td>blue-collar</td>\n",
       "      <td>married</td>\n",
       "      <td>primary</td>\n",
       "      <td>no</td>\n",
       "      <td>13117.0</td>\n",
       "      <td>no</td>\n",
       "      <td>no</td>\n",
       "      <td>2</td>\n",
       "    </tr>\n",
       "    <tr>\n",
       "      <th>4441</th>\n",
       "      <td>38.0</td>\n",
       "      <td>management</td>\n",
       "      <td>married</td>\n",
       "      <td>tertiary</td>\n",
       "      <td>no</td>\n",
       "      <td>12877.0</td>\n",
       "      <td>no</td>\n",
       "      <td>no</td>\n",
       "      <td>2</td>\n",
       "    </tr>\n",
       "  </tbody>\n",
       "</table>\n",
       "<p>70 rows × 9 columns</p>\n",
       "</div>"
      ],
      "text/plain": [
       "       age          job  marital  education default  balance housing loan  \\\n",
       "40    38.0   management   single   tertiary      no  11971.0     yes   no   \n",
       "64    56.0       admin.  married  secondary      no  16873.0      no   no   \n",
       "94    57.0  blue-collar  married  secondary      no  14093.0      no   no   \n",
       "272   46.0   management  married  secondary      no  12186.0      no   no   \n",
       "500   32.0   management   single   tertiary      no  12607.0      no   no   \n",
       "...    ...          ...      ...        ...     ...      ...     ...  ...   \n",
       "4338  50.0   management  married   tertiary      no  19447.0     yes  yes   \n",
       "4363  38.0  blue-collar   single  secondary      no  13156.0     yes   no   \n",
       "4369  57.0   technician  married  secondary      no  16063.0     yes   no   \n",
       "4440  45.0  blue-collar  married    primary      no  13117.0      no   no   \n",
       "4441  38.0   management  married   tertiary      no  12877.0      no   no   \n",
       "\n",
       "      cluster_no  \n",
       "40             2  \n",
       "64             2  \n",
       "94             2  \n",
       "272            2  \n",
       "500            2  \n",
       "...          ...  \n",
       "4338           2  \n",
       "4363           2  \n",
       "4369           2  \n",
       "4440           2  \n",
       "4441           2  \n",
       "\n",
       "[70 rows x 9 columns]"
      ]
     },
     "execution_count": 116,
     "metadata": {},
     "output_type": "execute_result"
    }
   ],
   "source": [
    "df[2]"
   ]
  },
  {
   "cell_type": "code",
   "execution_count": 160,
   "metadata": {},
   "outputs": [
    {
     "data": {
      "text/plain": [
       "75.0"
      ]
     },
     "execution_count": 160,
     "metadata": {},
     "output_type": "execute_result"
    }
   ],
   "source": [
    "df[2]['age'].max()"
   ]
  },
  {
   "cell_type": "code",
   "execution_count": 117,
   "metadata": {},
   "outputs": [
    {
     "name": "stdout",
     "output_type": "stream",
     "text": [
      "Requirement already satisfied: psycopg2 in c:\\users\\abhishek\\appdata\\local\\programs\\python\\python37-32\\lib\\site-packages (2.8.6)\n"
     ]
    },
    {
     "name": "stderr",
     "output_type": "stream",
     "text": [
      "WARNING: You are using pip version 20.3.1; however, version 20.3.3 is available.\n",
      "You should consider upgrading via the 'c:\\users\\abhishek\\appdata\\local\\programs\\python\\python37-32\\python.exe -m pip install --upgrade pip' command.\n"
     ]
    }
   ],
   "source": [
    "!pip install psycopg2"
   ]
  },
  {
   "cell_type": "code",
   "execution_count": 118,
   "metadata": {},
   "outputs": [
    {
     "name": "stdout",
     "output_type": "stream",
     "text": [
      "Requirement already satisfied: sqlalchemy in c:\\users\\abhishek\\appdata\\local\\programs\\python\\python37-32\\lib\\site-packages (1.3.22)\n"
     ]
    },
    {
     "name": "stderr",
     "output_type": "stream",
     "text": [
      "WARNING: You are using pip version 20.3.1; however, version 20.3.3 is available.\n",
      "You should consider upgrading via the 'c:\\users\\abhishek\\appdata\\local\\programs\\python\\python37-32\\python.exe -m pip install --upgrade pip' command.\n"
     ]
    }
   ],
   "source": [
    "!pip install sqlalchemy"
   ]
  },
  {
   "cell_type": "code",
   "execution_count": 137,
   "metadata": {},
   "outputs": [
    {
     "name": "stdout",
     "output_type": "stream",
     "text": [
      "Connecting to all the servers\n",
      "All servers are connected\n",
      "fragment1 allocated to node1\n",
      "fragment2 allocated to node2\n",
      "fragment3 allocated to node3\n"
     ]
    }
   ],
   "source": [
    "import psycopg2\n",
    "import sqlalchemy\n",
    "from sqlalchemy import create_engine\n",
    "print(\"Connecting to all the servers\")\n",
    "\n",
    "con = psycopg2.connect(host=\"localhost\", database=\"abhi\",port=5432, user=\"postgres\", password=\"abhi\")\n",
    "con1 = psycopg2.connect(host=\"34.87.60.35\", database=\"abhi\",port=5432, user=\"postgres\", password=\"abhi\")\n",
    "con2 = psycopg2.connect(host=\"35.240.159.243\", database=\"abhi\",port=5432, user=\"postgres\", password=\"abhi\")\n",
    "print(\"All servers are connected\")\n",
    "cursor=con.cursor()\n",
    "cursor1=con1.cursor()\n",
    "cursor2=con2.cursor()\n",
    "cursor.execute(\"CREATE TABLE fragment1(age integer,job varchar,marital varchar(50),education varchar(50),defaullt varchar(50) ,balance double precision,housing varchar(50) ,loan varchar(50),cluster_no integer);\");\n",
    "con.close()\n",
    "cursor1.execute(\"CREATE TABLE fragment2(age integer,job varchar,marital varchar(50),education varchar(50),defaullt varchar(50) ,balance double precision,housing varchar(50) ,loan varchar(50),cluster_no integer);\");\n",
    "con1.close()\n",
    "cursor2.execute(\"CREATE TABLE fragment3(age integer,job varchar,marital varchar(50),education varchar(50),defaullt varchar(50) ,balance double precision,housing varchar(50) ,loan varchar(50),cluster_no integer);\");\n",
    "con2.close()\n",
    "connect1 = create_engine(\"postgresql+psycopg2://%s:%s@%s:5432/%s\" % (\n",
    "    'postgres',\n",
    "    'abhi',\n",
    "    'localhost',\n",
    "    'abhi'\n",
    "))\n",
    "connect2 = create_engine(\"postgresql+psycopg2://%s:%s@%s:5432/%s\" % (\n",
    "    'postgres',\n",
    "    'abhi',\n",
    "    '34.87.60.35',\n",
    "    'abhi'\n",
    "))\n",
    "connect3 = create_engine(\"postgresql+psycopg2://%s:%s@%s:5432/%s\" % (\n",
    "    'postgres',\n",
    "    'abhi',\n",
    "    '35.240.159.243',\n",
    "    'abhi'\n",
    "))\n",
    "df[0].to_sql('fragment1',connect1,if_exists='append',index=False)\n",
    "print(\"fragment1 allocated to node1\")\n",
    "df[1].to_sql('fragment2',connect2,if_exists='append',index=False)\n",
    "print(\"fragment2 allocated to node2\")\n",
    "df[2].to_sql('fragment3',connect3,if_exists='append',index=False)\n",
    "print(\"fragment3 allocated to node3\")\n"
   ]
  },
  {
   "cell_type": "markdown",
   "metadata": {},
   "source": [
    "# fragmentation without Data sementics(Using predicates)"
   ]
  },
  {
   "cell_type": "code",
   "execution_count": 138,
   "metadata": {},
   "outputs": [
    {
     "data": {
      "text/html": [
       "<div>\n",
       "<style scoped>\n",
       "    .dataframe tbody tr th:only-of-type {\n",
       "        vertical-align: middle;\n",
       "    }\n",
       "\n",
       "    .dataframe tbody tr th {\n",
       "        vertical-align: top;\n",
       "    }\n",
       "\n",
       "    .dataframe thead th {\n",
       "        text-align: right;\n",
       "    }\n",
       "</style>\n",
       "<table border=\"1\" class=\"dataframe\">\n",
       "  <thead>\n",
       "    <tr style=\"text-align: right;\">\n",
       "      <th></th>\n",
       "      <th>age</th>\n",
       "      <th>job</th>\n",
       "      <th>marital</th>\n",
       "      <th>education</th>\n",
       "      <th>default</th>\n",
       "      <th>balance</th>\n",
       "      <th>housing</th>\n",
       "      <th>loan</th>\n",
       "      <th>contact</th>\n",
       "      <th>day</th>\n",
       "      <th>month</th>\n",
       "      <th>duration</th>\n",
       "      <th>campaign</th>\n",
       "      <th>pdays</th>\n",
       "      <th>previous</th>\n",
       "      <th>poutcome</th>\n",
       "      <th>y</th>\n",
       "    </tr>\n",
       "  </thead>\n",
       "  <tbody>\n",
       "    <tr>\n",
       "      <th>0</th>\n",
       "      <td>30</td>\n",
       "      <td>unemployed</td>\n",
       "      <td>married</td>\n",
       "      <td>primary</td>\n",
       "      <td>no</td>\n",
       "      <td>1787</td>\n",
       "      <td>no</td>\n",
       "      <td>no</td>\n",
       "      <td>cellular</td>\n",
       "      <td>19</td>\n",
       "      <td>oct</td>\n",
       "      <td>79</td>\n",
       "      <td>1</td>\n",
       "      <td>-1</td>\n",
       "      <td>0</td>\n",
       "      <td>unknown</td>\n",
       "      <td>no</td>\n",
       "    </tr>\n",
       "    <tr>\n",
       "      <th>1</th>\n",
       "      <td>33</td>\n",
       "      <td>services</td>\n",
       "      <td>married</td>\n",
       "      <td>secondary</td>\n",
       "      <td>no</td>\n",
       "      <td>4789</td>\n",
       "      <td>yes</td>\n",
       "      <td>yes</td>\n",
       "      <td>cellular</td>\n",
       "      <td>11</td>\n",
       "      <td>may</td>\n",
       "      <td>220</td>\n",
       "      <td>1</td>\n",
       "      <td>339</td>\n",
       "      <td>4</td>\n",
       "      <td>failure</td>\n",
       "      <td>no</td>\n",
       "    </tr>\n",
       "    <tr>\n",
       "      <th>2</th>\n",
       "      <td>35</td>\n",
       "      <td>management</td>\n",
       "      <td>single</td>\n",
       "      <td>tertiary</td>\n",
       "      <td>no</td>\n",
       "      <td>1350</td>\n",
       "      <td>yes</td>\n",
       "      <td>no</td>\n",
       "      <td>cellular</td>\n",
       "      <td>16</td>\n",
       "      <td>apr</td>\n",
       "      <td>185</td>\n",
       "      <td>1</td>\n",
       "      <td>330</td>\n",
       "      <td>1</td>\n",
       "      <td>failure</td>\n",
       "      <td>no</td>\n",
       "    </tr>\n",
       "    <tr>\n",
       "      <th>3</th>\n",
       "      <td>30</td>\n",
       "      <td>management</td>\n",
       "      <td>married</td>\n",
       "      <td>tertiary</td>\n",
       "      <td>no</td>\n",
       "      <td>1476</td>\n",
       "      <td>yes</td>\n",
       "      <td>yes</td>\n",
       "      <td>unknown</td>\n",
       "      <td>3</td>\n",
       "      <td>jun</td>\n",
       "      <td>199</td>\n",
       "      <td>4</td>\n",
       "      <td>-1</td>\n",
       "      <td>0</td>\n",
       "      <td>unknown</td>\n",
       "      <td>no</td>\n",
       "    </tr>\n",
       "    <tr>\n",
       "      <th>4</th>\n",
       "      <td>59</td>\n",
       "      <td>blue-collar</td>\n",
       "      <td>married</td>\n",
       "      <td>secondary</td>\n",
       "      <td>no</td>\n",
       "      <td>0</td>\n",
       "      <td>yes</td>\n",
       "      <td>no</td>\n",
       "      <td>unknown</td>\n",
       "      <td>5</td>\n",
       "      <td>may</td>\n",
       "      <td>226</td>\n",
       "      <td>1</td>\n",
       "      <td>-1</td>\n",
       "      <td>0</td>\n",
       "      <td>unknown</td>\n",
       "      <td>no</td>\n",
       "    </tr>\n",
       "  </tbody>\n",
       "</table>\n",
       "</div>"
      ],
      "text/plain": [
       "   age          job  marital  education default  balance housing loan  \\\n",
       "0   30   unemployed  married    primary      no     1787      no   no   \n",
       "1   33     services  married  secondary      no     4789     yes  yes   \n",
       "2   35   management   single   tertiary      no     1350     yes   no   \n",
       "3   30   management  married   tertiary      no     1476     yes  yes   \n",
       "4   59  blue-collar  married  secondary      no        0     yes   no   \n",
       "\n",
       "    contact  day month  duration  campaign  pdays  previous poutcome   y  \n",
       "0  cellular   19   oct        79         1     -1         0  unknown  no  \n",
       "1  cellular   11   may       220         1    339         4  failure  no  \n",
       "2  cellular   16   apr       185         1    330         1  failure  no  \n",
       "3   unknown    3   jun       199         4     -1         0  unknown  no  \n",
       "4   unknown    5   may       226         1     -1         0  unknown  no  "
      ]
     },
     "execution_count": 138,
     "metadata": {},
     "output_type": "execute_result"
    }
   ],
   "source": [
    "data1=pd.read_csv(\"C:\\\\Users\\\\ABHISHEK\\\\Desktop\\\\python\\\\bank\\\\bank.csv\")\n",
    "data1.head()"
   ]
  },
  {
   "cell_type": "code",
   "execution_count": 139,
   "metadata": {},
   "outputs": [
    {
     "data": {
      "text/html": [
       "<div>\n",
       "<style scoped>\n",
       "    .dataframe tbody tr th:only-of-type {\n",
       "        vertical-align: middle;\n",
       "    }\n",
       "\n",
       "    .dataframe tbody tr th {\n",
       "        vertical-align: top;\n",
       "    }\n",
       "\n",
       "    .dataframe thead th {\n",
       "        text-align: right;\n",
       "    }\n",
       "</style>\n",
       "<table border=\"1\" class=\"dataframe\">\n",
       "  <thead>\n",
       "    <tr style=\"text-align: right;\">\n",
       "      <th></th>\n",
       "      <th>age</th>\n",
       "      <th>balance</th>\n",
       "      <th>day</th>\n",
       "      <th>duration</th>\n",
       "      <th>campaign</th>\n",
       "      <th>pdays</th>\n",
       "      <th>previous</th>\n",
       "    </tr>\n",
       "  </thead>\n",
       "  <tbody>\n",
       "    <tr>\n",
       "      <th>count</th>\n",
       "      <td>4521.000000</td>\n",
       "      <td>4521.000000</td>\n",
       "      <td>4521.000000</td>\n",
       "      <td>4521.000000</td>\n",
       "      <td>4521.000000</td>\n",
       "      <td>4521.000000</td>\n",
       "      <td>4521.000000</td>\n",
       "    </tr>\n",
       "    <tr>\n",
       "      <th>mean</th>\n",
       "      <td>41.170095</td>\n",
       "      <td>1422.657819</td>\n",
       "      <td>15.915284</td>\n",
       "      <td>263.961292</td>\n",
       "      <td>2.793630</td>\n",
       "      <td>39.766645</td>\n",
       "      <td>0.542579</td>\n",
       "    </tr>\n",
       "    <tr>\n",
       "      <th>std</th>\n",
       "      <td>10.576211</td>\n",
       "      <td>3009.638142</td>\n",
       "      <td>8.247667</td>\n",
       "      <td>259.856633</td>\n",
       "      <td>3.109807</td>\n",
       "      <td>100.121124</td>\n",
       "      <td>1.693562</td>\n",
       "    </tr>\n",
       "    <tr>\n",
       "      <th>min</th>\n",
       "      <td>19.000000</td>\n",
       "      <td>-3313.000000</td>\n",
       "      <td>1.000000</td>\n",
       "      <td>4.000000</td>\n",
       "      <td>1.000000</td>\n",
       "      <td>-1.000000</td>\n",
       "      <td>0.000000</td>\n",
       "    </tr>\n",
       "    <tr>\n",
       "      <th>25%</th>\n",
       "      <td>33.000000</td>\n",
       "      <td>69.000000</td>\n",
       "      <td>9.000000</td>\n",
       "      <td>104.000000</td>\n",
       "      <td>1.000000</td>\n",
       "      <td>-1.000000</td>\n",
       "      <td>0.000000</td>\n",
       "    </tr>\n",
       "    <tr>\n",
       "      <th>50%</th>\n",
       "      <td>39.000000</td>\n",
       "      <td>444.000000</td>\n",
       "      <td>16.000000</td>\n",
       "      <td>185.000000</td>\n",
       "      <td>2.000000</td>\n",
       "      <td>-1.000000</td>\n",
       "      <td>0.000000</td>\n",
       "    </tr>\n",
       "    <tr>\n",
       "      <th>75%</th>\n",
       "      <td>49.000000</td>\n",
       "      <td>1480.000000</td>\n",
       "      <td>21.000000</td>\n",
       "      <td>329.000000</td>\n",
       "      <td>3.000000</td>\n",
       "      <td>-1.000000</td>\n",
       "      <td>0.000000</td>\n",
       "    </tr>\n",
       "    <tr>\n",
       "      <th>max</th>\n",
       "      <td>87.000000</td>\n",
       "      <td>71188.000000</td>\n",
       "      <td>31.000000</td>\n",
       "      <td>3025.000000</td>\n",
       "      <td>50.000000</td>\n",
       "      <td>871.000000</td>\n",
       "      <td>25.000000</td>\n",
       "    </tr>\n",
       "  </tbody>\n",
       "</table>\n",
       "</div>"
      ],
      "text/plain": [
       "               age       balance          day     duration     campaign  \\\n",
       "count  4521.000000   4521.000000  4521.000000  4521.000000  4521.000000   \n",
       "mean     41.170095   1422.657819    15.915284   263.961292     2.793630   \n",
       "std      10.576211   3009.638142     8.247667   259.856633     3.109807   \n",
       "min      19.000000  -3313.000000     1.000000     4.000000     1.000000   \n",
       "25%      33.000000     69.000000     9.000000   104.000000     1.000000   \n",
       "50%      39.000000    444.000000    16.000000   185.000000     2.000000   \n",
       "75%      49.000000   1480.000000    21.000000   329.000000     3.000000   \n",
       "max      87.000000  71188.000000    31.000000  3025.000000    50.000000   \n",
       "\n",
       "             pdays     previous  \n",
       "count  4521.000000  4521.000000  \n",
       "mean     39.766645     0.542579  \n",
       "std     100.121124     1.693562  \n",
       "min      -1.000000     0.000000  \n",
       "25%      -1.000000     0.000000  \n",
       "50%      -1.000000     0.000000  \n",
       "75%      -1.000000     0.000000  \n",
       "max     871.000000    25.000000  "
      ]
     },
     "execution_count": 139,
     "metadata": {},
     "output_type": "execute_result"
    }
   ],
   "source": [
    "data1.describe()"
   ]
  },
  {
   "cell_type": "code",
   "execution_count": 147,
   "metadata": {},
   "outputs": [],
   "source": [
    "df1={}\n",
    "new_data1=data1[data1['age']<40]\n",
    "df1[0]=pd.DataFrame(new_data1,columns=data1.columns)\n",
    "new_data2=data1[data1['age']==40]\n",
    "df1[1]=pd.DataFrame(new_data2,columns=data1.columns)\n",
    "new_data3=data1[data1['age']>40]\n",
    "df1[2]=pd.DataFrame(new_data3,columns=data1.columns)"
   ]
  },
  {
   "cell_type": "code",
   "execution_count": 150,
   "metadata": {},
   "outputs": [
    {
     "data": {
      "text/html": [
       "<div>\n",
       "<style scoped>\n",
       "    .dataframe tbody tr th:only-of-type {\n",
       "        vertical-align: middle;\n",
       "    }\n",
       "\n",
       "    .dataframe tbody tr th {\n",
       "        vertical-align: top;\n",
       "    }\n",
       "\n",
       "    .dataframe thead th {\n",
       "        text-align: right;\n",
       "    }\n",
       "</style>\n",
       "<table border=\"1\" class=\"dataframe\">\n",
       "  <thead>\n",
       "    <tr style=\"text-align: right;\">\n",
       "      <th></th>\n",
       "      <th>age</th>\n",
       "      <th>job</th>\n",
       "      <th>marital</th>\n",
       "      <th>education</th>\n",
       "      <th>default</th>\n",
       "      <th>balance</th>\n",
       "      <th>housing</th>\n",
       "      <th>loan</th>\n",
       "      <th>contact</th>\n",
       "      <th>day</th>\n",
       "      <th>month</th>\n",
       "      <th>duration</th>\n",
       "      <th>campaign</th>\n",
       "      <th>pdays</th>\n",
       "      <th>previous</th>\n",
       "      <th>poutcome</th>\n",
       "      <th>y</th>\n",
       "    </tr>\n",
       "  </thead>\n",
       "  <tbody>\n",
       "    <tr>\n",
       "      <th>15</th>\n",
       "      <td>40</td>\n",
       "      <td>management</td>\n",
       "      <td>married</td>\n",
       "      <td>tertiary</td>\n",
       "      <td>no</td>\n",
       "      <td>194</td>\n",
       "      <td>no</td>\n",
       "      <td>yes</td>\n",
       "      <td>cellular</td>\n",
       "      <td>29</td>\n",
       "      <td>aug</td>\n",
       "      <td>189</td>\n",
       "      <td>2</td>\n",
       "      <td>-1</td>\n",
       "      <td>0</td>\n",
       "      <td>unknown</td>\n",
       "      <td>no</td>\n",
       "    </tr>\n",
       "    <tr>\n",
       "      <th>77</th>\n",
       "      <td>40</td>\n",
       "      <td>technician</td>\n",
       "      <td>single</td>\n",
       "      <td>secondary</td>\n",
       "      <td>no</td>\n",
       "      <td>591</td>\n",
       "      <td>no</td>\n",
       "      <td>yes</td>\n",
       "      <td>cellular</td>\n",
       "      <td>14</td>\n",
       "      <td>aug</td>\n",
       "      <td>87</td>\n",
       "      <td>6</td>\n",
       "      <td>-1</td>\n",
       "      <td>0</td>\n",
       "      <td>unknown</td>\n",
       "      <td>no</td>\n",
       "    </tr>\n",
       "    <tr>\n",
       "      <th>79</th>\n",
       "      <td>40</td>\n",
       "      <td>unemployed</td>\n",
       "      <td>married</td>\n",
       "      <td>secondary</td>\n",
       "      <td>no</td>\n",
       "      <td>219</td>\n",
       "      <td>yes</td>\n",
       "      <td>no</td>\n",
       "      <td>cellular</td>\n",
       "      <td>17</td>\n",
       "      <td>nov</td>\n",
       "      <td>204</td>\n",
       "      <td>2</td>\n",
       "      <td>196</td>\n",
       "      <td>1</td>\n",
       "      <td>failure</td>\n",
       "      <td>no</td>\n",
       "    </tr>\n",
       "    <tr>\n",
       "      <th>172</th>\n",
       "      <td>40</td>\n",
       "      <td>admin.</td>\n",
       "      <td>single</td>\n",
       "      <td>secondary</td>\n",
       "      <td>no</td>\n",
       "      <td>462</td>\n",
       "      <td>yes</td>\n",
       "      <td>yes</td>\n",
       "      <td>cellular</td>\n",
       "      <td>6</td>\n",
       "      <td>apr</td>\n",
       "      <td>272</td>\n",
       "      <td>1</td>\n",
       "      <td>335</td>\n",
       "      <td>4</td>\n",
       "      <td>other</td>\n",
       "      <td>no</td>\n",
       "    </tr>\n",
       "    <tr>\n",
       "      <th>183</th>\n",
       "      <td>40</td>\n",
       "      <td>admin.</td>\n",
       "      <td>divorced</td>\n",
       "      <td>secondary</td>\n",
       "      <td>no</td>\n",
       "      <td>6</td>\n",
       "      <td>no</td>\n",
       "      <td>no</td>\n",
       "      <td>unknown</td>\n",
       "      <td>11</td>\n",
       "      <td>jun</td>\n",
       "      <td>140</td>\n",
       "      <td>1</td>\n",
       "      <td>-1</td>\n",
       "      <td>0</td>\n",
       "      <td>unknown</td>\n",
       "      <td>no</td>\n",
       "    </tr>\n",
       "  </tbody>\n",
       "</table>\n",
       "</div>"
      ],
      "text/plain": [
       "     age         job   marital  education default  balance housing loan  \\\n",
       "15    40  management   married   tertiary      no      194      no  yes   \n",
       "77    40  technician    single  secondary      no      591      no  yes   \n",
       "79    40  unemployed   married  secondary      no      219     yes   no   \n",
       "172   40      admin.    single  secondary      no      462     yes  yes   \n",
       "183   40      admin.  divorced  secondary      no        6      no   no   \n",
       "\n",
       "      contact  day month  duration  campaign  pdays  previous poutcome   y  \n",
       "15   cellular   29   aug       189         2     -1         0  unknown  no  \n",
       "77   cellular   14   aug        87         6     -1         0  unknown  no  \n",
       "79   cellular   17   nov       204         2    196         1  failure  no  \n",
       "172  cellular    6   apr       272         1    335         4    other  no  \n",
       "183   unknown   11   jun       140         1     -1         0  unknown  no  "
      ]
     },
     "execution_count": 150,
     "metadata": {},
     "output_type": "execute_result"
    }
   ],
   "source": [
    "df1[1].head()"
   ]
  },
  {
   "cell_type": "code",
   "execution_count": 152,
   "metadata": {},
   "outputs": [
    {
     "name": "stdout",
     "output_type": "stream",
     "text": [
      "All servers are connected\n",
      "fragmentwds1 allocated to node1\n",
      "fragmentwds2 allocated to node2\n",
      "fragmentwds3 allocated to node3\n"
     ]
    }
   ],
   "source": [
    "con = psycopg2.connect(host=\"localhost\", database=\"abhi\",port=5432, user=\"postgres\", password=\"abhi\")\n",
    "con1 = psycopg2.connect(host=\"34.87.60.35\", database=\"abhi\",port=5432, user=\"postgres\", password=\"abhi\")\n",
    "con2 = psycopg2.connect(host=\"35.240.159.243\", database=\"abhi\",port=5432, user=\"postgres\", password=\"abhi\")\n",
    "print(\"All servers are connected\")\n",
    "cursor=con.cursor()\n",
    "cursor1=con1.cursor()\n",
    "cursor2=con2.cursor()\n",
    "cursor.execute(\"CREATE TABLE fragmentwds1(age integer,job varchar,marital varchar(50),education varchar(50),defaullt varchar(50) ,balance double precision,housing varchar(50) ,loan varchar(50),contact varchar(50),day integer,month varchar(50),duration integer,campaign integer,pdays integer,  previous integer,poutcome integer,y varchar(50));\");\n",
    "con.close()\n",
    "cursor1.execute(\"CREATE TABLE fragmentwds2(age integer,job varchar,marital varchar(50),education varchar(50),defaullt varchar(50) ,balance double precision,housing varchar(50) ,loan varchar(50),contact varchar(50),day integer,month varchar(50),duration integer,campaign integer,pdays integer,  previous integer,poutcome integer,y varchar(50));\");\n",
    "con1.close()\n",
    "cursor2.execute(\"CREATE TABLE fragmentwds3(age integer,job varchar,marital varchar(50),education varchar(50),defaullt varchar(50) ,balance double precision,housing varchar(50) ,loan varchar(50),contact varchar(50),day integer,month varchar(50),duration integer,campaign integer,pdays integer,  previous integer,poutcome integer,y varchar(50));\");\n",
    "con2.close()\n",
    "connect1 = create_engine(\"postgresql+psycopg2://%s:%s@%s:5432/%s\" % (\n",
    "    'postgres',\n",
    "    'abhi',\n",
    "    'localhost',\n",
    "    'abhi'\n",
    "))\n",
    "connect2 = create_engine(\"postgresql+psycopg2://%s:%s@%s:5432/%s\" % (\n",
    "    'postgres',\n",
    "    'abhi',\n",
    "    '34.87.60.35',\n",
    "    'abhi'\n",
    "))\n",
    "connect3 = create_engine(\"postgresql+psycopg2://%s:%s@%s:5432/%s\" % (\n",
    "    'postgres',\n",
    "    'abhi',\n",
    "    '35.240.159.243',\n",
    "    'abhi'\n",
    "))\n",
    "df1[0].to_sql('fragmentwds1',connect1,if_exists='append',index=False)\n",
    "print(\"fragmentwds1 allocated to node1\")\n",
    "df1[1].to_sql('fragmentwds2',connect2,if_exists='append',index=False)\n",
    "print(\"fragmentwds2 allocated to node2\")\n",
    "df1[2].to_sql('fragmentwds3',connect3,if_exists='append',index=False)\n",
    "print(\"fragmentwds3 allocated to node3\")\n"
   ]
  },
  {
   "cell_type": "markdown",
   "metadata": {},
   "source": [
    "# List of queries"
   ]
  },
  {
   "cell_type": "code",
   "execution_count": 20,
   "metadata": {},
   "outputs": [
    {
     "name": "stdout",
     "output_type": "stream",
     "text": [
      "727.288330078125\n"
     ]
    }
   ],
   "source": [
    "import time\n",
    "MD1={\n",
    "    'ip':\"localhost\",\n",
    "    'minval':19,\n",
    "    'maxval':87\n",
    "}\n",
    "MD2={\n",
    "    'ip':\"34.87.60.35\",\n",
    "    'minval':21,\n",
    "    'maxval':80\n",
    "}\n",
    "MD3={\n",
    "    'ip':\"35.240.159.243\",\n",
    "    'minval':25,\n",
    "    'maxval':75\n",
    "}\n",
    "\n",
    "# query processing without using data semantics\n",
    "con = psycopg2.connect(host=\"localhost\", database=\"abhi\",port=5432, user=\"postgres\", password=\"abhi\")\n",
    "con1 = psycopg2.connect(host=\"34.87.60.35\", database=\"abhi\",port=5432, user=\"postgres\", password=\"abhi\")\n",
    "con2 = psycopg2.connect(host=\"35.240.159.243\", database=\"abhi\",port=5432, user=\"postgres\", password=\"abhi\")\n",
    "cursor=con.cursor()\n",
    "cursor1=con1.cursor()\n",
    "cursor2=con2.cursor()\n",
    "start_time = time.time()\n",
    "cursor.execute(\"SELECT * FROM fragment1 WHERE age=20;\")\n",
    "con.close()\n",
    "cursor1.execute(\"SELECT * FROM fragment2 WHERE age=20;\")\n",
    "con1.close()\n",
    "cursor2.execute(\"SELECT * FROM fragment3 WHERE age=20;\")\n",
    "con2.close()\n",
    "end_time=time.time()\n",
    "print(end_time*1000-start_time*1000)"
   ]
  },
  {
   "cell_type": "code",
   "execution_count": 21,
   "metadata": {},
   "outputs": [
    {
     "name": "stdout",
     "output_type": "stream",
     "text": [
      "3.28662109375\n"
     ]
    }
   ],
   "source": [
    "# query processing with using data semantics\n",
    "con = psycopg2.connect(host=\"localhost\", database=\"abhi\",port=5432, user=\"postgres\", password=\"abhi\")\n",
    "cursor=con.cursor()\n",
    "start_time = time.time()\n",
    "cursor.execute(\"SELECT * FROM fragmentwds1 WHERE age=20;\")\n",
    "con.close()\n",
    "end_time=time.time()\n",
    "print(end_time*1000-start_time*1000)"
   ]
  },
  {
   "cell_type": "code",
   "execution_count": 16,
   "metadata": {},
   "outputs": [
    {
     "name": "stdout",
     "output_type": "stream",
     "text": [
      "1358.8505859375\n"
     ]
    }
   ],
   "source": [
    "# query processing without using data semantics\n",
    "import psycopg2\n",
    "import time\n",
    "con = psycopg2.connect(host=\"localhost\", database=\"abhi\",port=5432, user=\"postgres\", password=\"abhi\")\n",
    "con1 = psycopg2.connect(host=\"34.87.60.35\", database=\"abhi\",port=5432, user=\"postgres\", password=\"abhi\")\n",
    "con2 = psycopg2.connect(host=\"35.240.159.243\", database=\"abhi\",port=5432, user=\"postgres\", password=\"abhi\")\n",
    "cursor=con.cursor()\n",
    "cursor1=con1.cursor()\n",
    "cursor2=con2.cursor()\n",
    "start_time = time.time()\n",
    "cursor.execute(\"SELECT * FROM fragmentwds1 WHERE age=39;\")\n",
    "con.close()\n",
    "cursor1.execute(\"SELECT * FROM fragmentwds2 WHERE age=39;\")\n",
    "con1.close()\n",
    "cursor2.execute(\"SELECT * FROM fragmentwds3 WHERE age=39;\")\n",
    "con2.close()\n",
    "end_time=time.time()\n",
    "print(end_time*1000-start_time*1000)"
   ]
  },
  {
   "cell_type": "code",
   "execution_count": 17,
   "metadata": {},
   "outputs": [
    {
     "name": "stdout",
     "output_type": "stream",
     "text": [
      "1.99951171875\n"
     ]
    }
   ],
   "source": [
    "# query processing with using data semantics\n",
    "con = psycopg2.connect(host=\"localhost\", database=\"abhi\",port=5432, user=\"postgres\", password=\"abhi\")\n",
    "cursor=con.cursor()\n",
    "start_time = time.time()\n",
    "cursor.execute(\"SELECT * FROM fragment1 WHERE age=39;\")\n",
    "con.close()\n",
    "end_time=time.time()\n",
    "print(end_time*1000-start_time*1000)"
   ]
  },
  {
   "cell_type": "code",
   "execution_count": 22,
   "metadata": {},
   "outputs": [
    {
     "name": "stdout",
     "output_type": "stream",
     "text": [
      "526.884765625\n"
     ]
    }
   ],
   "source": [
    "# query processing without using data semantics\n",
    "con = psycopg2.connect(host=\"localhost\", database=\"abhi\",port=5432, user=\"postgres\", password=\"abhi\")\n",
    "con1 = psycopg2.connect(host=\"34.87.60.35\", database=\"abhi\",port=5432, user=\"postgres\", password=\"abhi\")\n",
    "con2 = psycopg2.connect(host=\"35.240.159.243\", database=\"abhi\",port=5432, user=\"postgres\", password=\"abhi\")\n",
    "cursor=con.cursor()\n",
    "cursor1=con1.cursor()\n",
    "cursor2=con2.cursor()\n",
    "start_time = time.time()\n",
    "cursor.execute(\"SELECT * FROM fragmentwds1 WHERE age=29;\")\n",
    "con.close()\n",
    "cursor1.execute(\"SELECT * FROM fragmentwds2 WHERE age=29;\")\n",
    "con1.close()\n",
    "cursor2.execute(\"SELECT * FROM fragmentwds3 WHERE age=29;\")\n",
    "con2.close()\n",
    "end_time=time.time()\n",
    "print(end_time*1000-start_time*1000)"
   ]
  },
  {
   "cell_type": "code",
   "execution_count": 23,
   "metadata": {},
   "outputs": [
    {
     "name": "stdout",
     "output_type": "stream",
     "text": [
      "0.0\n"
     ]
    }
   ],
   "source": [
    "# query processing with using data semantics\n",
    "con = psycopg2.connect(host=\"localhost\", database=\"abhi\",port=5432, user=\"postgres\", password=\"abhi\")\n",
    "cursor=con.cursor()\n",
    "start_time = time.time()\n",
    "cursor.execute(\"SELECT * FROM fragment1 WHERE age=29;\")\n",
    "con.close()\n",
    "end_time=time.time()\n",
    "print(end_time*1000-start_time*1000)"
   ]
  }
 ],
 "metadata": {
  "colab": {
   "name": "ADBSLABAssignment2.ipynb",
   "provenance": []
  },
  "kernelspec": {
   "display_name": "Python 3",
   "language": "python",
   "name": "python3"
  },
  "language_info": {
   "codemirror_mode": {
    "name": "ipython",
    "version": 3
   },
   "file_extension": ".py",
   "mimetype": "text/x-python",
   "name": "python",
   "nbconvert_exporter": "python",
   "pygments_lexer": "ipython3",
   "version": "3.7.2"
  }
 },
 "nbformat": 4,
 "nbformat_minor": 1
}
